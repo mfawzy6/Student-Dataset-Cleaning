{
 "cells": [
  {
   "cell_type": "markdown",
   "id": "54af8798",
   "metadata": {},
   "source": [
    "# Student Dataset Cleaning, EDA, and Outliers Handling\n",
    "This notebook solves the assignment on data cleaning, missing values, and outliers handling for the provided **Student Dataset**."
   ]
  },
  {
   "cell_type": "code",
   "execution_count": 35,
   "id": "542eea11",
   "metadata": {},
   "outputs": [
    {
     "data": {
      "text/html": [
       "<div>\n",
       "<style scoped>\n",
       "    .dataframe tbody tr th:only-of-type {\n",
       "        vertical-align: middle;\n",
       "    }\n",
       "\n",
       "    .dataframe tbody tr th {\n",
       "        vertical-align: top;\n",
       "    }\n",
       "\n",
       "    .dataframe thead th {\n",
       "        text-align: right;\n",
       "    }\n",
       "</style>\n",
       "<table border=\"1\" class=\"dataframe\">\n",
       "  <thead>\n",
       "    <tr style=\"text-align: right;\">\n",
       "      <th></th>\n",
       "      <th>fNAME</th>\n",
       "      <th>lNAME</th>\n",
       "      <th>Age</th>\n",
       "      <th>gender</th>\n",
       "      <th>country</th>\n",
       "      <th>residence</th>\n",
       "      <th>entryEXAM</th>\n",
       "      <th>prevEducation</th>\n",
       "      <th>studyHOURS</th>\n",
       "      <th>Python</th>\n",
       "      <th>DB</th>\n",
       "    </tr>\n",
       "  </thead>\n",
       "  <tbody>\n",
       "    <tr>\n",
       "      <th>0</th>\n",
       "      <td>Christina</td>\n",
       "      <td>Binger</td>\n",
       "      <td>44</td>\n",
       "      <td>Female</td>\n",
       "      <td>Norway</td>\n",
       "      <td>Private</td>\n",
       "      <td>72</td>\n",
       "      <td>Masters</td>\n",
       "      <td>158</td>\n",
       "      <td>59.0</td>\n",
       "      <td>55</td>\n",
       "    </tr>\n",
       "    <tr>\n",
       "      <th>1</th>\n",
       "      <td>Alex</td>\n",
       "      <td>Walekhwa</td>\n",
       "      <td>60</td>\n",
       "      <td>M</td>\n",
       "      <td>Kenya</td>\n",
       "      <td>Private</td>\n",
       "      <td>79</td>\n",
       "      <td>Diploma</td>\n",
       "      <td>150</td>\n",
       "      <td>60.0</td>\n",
       "      <td>75</td>\n",
       "    </tr>\n",
       "    <tr>\n",
       "      <th>2</th>\n",
       "      <td>Philip</td>\n",
       "      <td>Leo</td>\n",
       "      <td>25</td>\n",
       "      <td>Male</td>\n",
       "      <td>Uganda</td>\n",
       "      <td>Sognsvann</td>\n",
       "      <td>55</td>\n",
       "      <td>HighSchool</td>\n",
       "      <td>130</td>\n",
       "      <td>74.0</td>\n",
       "      <td>50</td>\n",
       "    </tr>\n",
       "    <tr>\n",
       "      <th>3</th>\n",
       "      <td>Shoni</td>\n",
       "      <td>Hlongwane</td>\n",
       "      <td>22</td>\n",
       "      <td>F</td>\n",
       "      <td>Rsa</td>\n",
       "      <td>Sognsvann</td>\n",
       "      <td>40</td>\n",
       "      <td>High School</td>\n",
       "      <td>120</td>\n",
       "      <td>NaN</td>\n",
       "      <td>44</td>\n",
       "    </tr>\n",
       "    <tr>\n",
       "      <th>4</th>\n",
       "      <td>Maria</td>\n",
       "      <td>Kedibone</td>\n",
       "      <td>23</td>\n",
       "      <td>Female</td>\n",
       "      <td>South Africa</td>\n",
       "      <td>Sognsvann</td>\n",
       "      <td>65</td>\n",
       "      <td>High School</td>\n",
       "      <td>122</td>\n",
       "      <td>91.0</td>\n",
       "      <td>80</td>\n",
       "    </tr>\n",
       "  </tbody>\n",
       "</table>\n",
       "</div>"
      ],
      "text/plain": [
       "       fNAME      lNAME  Age  gender       country  residence  entryEXAM  \\\n",
       "0  Christina     Binger   44  Female        Norway    Private         72   \n",
       "1       Alex   Walekhwa   60       M         Kenya    Private         79   \n",
       "2     Philip        Leo   25    Male        Uganda  Sognsvann         55   \n",
       "3      Shoni  Hlongwane   22       F           Rsa  Sognsvann         40   \n",
       "4      Maria   Kedibone   23  Female  South Africa  Sognsvann         65   \n",
       "\n",
       "  prevEducation  studyHOURS  Python  DB  \n",
       "0       Masters         158    59.0  55  \n",
       "1       Diploma         150    60.0  75  \n",
       "2    HighSchool         130    74.0  50  \n",
       "3   High School         120     NaN  44  \n",
       "4   High School         122    91.0  80  "
      ]
     },
     "execution_count": 35,
     "metadata": {},
     "output_type": "execute_result"
    }
   ],
   "source": [
    "\n",
    "import pandas as pd\n",
    "import numpy as np\n",
    "import seaborn as sns\n",
    "import matplotlib.pyplot as plt\n",
    "\n",
    "# Load dataset\n",
    "df = pd.read_csv(\"bi.csv\", encoding=\"latin1\")\n",
    "df.head()\n"
   ]
  },
  {
   "cell_type": "markdown",
   "id": "822c61ad",
   "metadata": {},
   "source": [
    "## Part 1 – Data Cleaning\n",
    "### Dataset Structure"
   ]
  },
  {
   "cell_type": "code",
   "execution_count": 52,
   "id": "dcbef24a",
   "metadata": {},
   "outputs": [
    {
     "name": "stdout",
     "output_type": "stream",
     "text": [
      "\n",
      "Shape: (77, 11)\n",
      "\n",
      "\n",
      "Info:\n",
      "<class 'pandas.core.frame.DataFrame'>\n",
      "RangeIndex: 77 entries, 0 to 76\n",
      "Data columns (total 11 columns):\n",
      " #   Column         Non-Null Count  Dtype  \n",
      "---  ------         --------------  -----  \n",
      " 0   fNAME          77 non-null     object \n",
      " 1   lNAME          77 non-null     object \n",
      " 2   Age            77 non-null     int64  \n",
      " 3   gender         77 non-null     object \n",
      " 4   country        77 non-null     object \n",
      " 5   residence      77 non-null     object \n",
      " 6   entryEXAM      77 non-null     int64  \n",
      " 7   prevEducation  77 non-null     object \n",
      " 8   studyHOURS     77 non-null     int64  \n",
      " 9   Python         75 non-null     float64\n",
      " 10  DB             77 non-null     int64  \n",
      "dtypes: float64(1), int64(4), object(6)\n",
      "memory usage: 6.7+ KB\n",
      "None\n",
      "\n",
      "\n",
      "Head:\n",
      "        fNAME      lNAME  Age  gender       country  residence  entryEXAM  \\\n",
      "0  Christina     Binger   44  Female        Norway    Private         72   \n",
      "1       Alex   Walekhwa   60       M         Kenya    Private         79   \n",
      "2     Philip        Leo   25    Male        Uganda  Sognsvann         55   \n",
      "3      Shoni  Hlongwane   22       F           Rsa  Sognsvann         40   \n",
      "4      Maria   Kedibone   23  Female  South Africa  Sognsvann         65   \n",
      "\n",
      "  prevEducation  studyHOURS  Python  DB  \n",
      "0       Masters         158    59.0  55  \n",
      "1       Diploma         150    60.0  75  \n",
      "2    HighSchool         130    74.0  50  \n",
      "3   High School         120     NaN  44  \n",
      "4   High School         122    91.0  80  \n"
     ]
    }
   ],
   "source": [
    "\n",
    "# Shape, info, head\n",
    "print(\"\\nShape:\", df.shape)\n",
    "print(\"\\n\\nInfo:\")\n",
    "print(df.info())\n",
    "print(\"\\n\\nHead:\\n\",df.head())\n"
   ]
  },
  {
   "cell_type": "markdown",
   "id": "53fcbf20",
   "metadata": {},
   "source": [
    "**Question:** Which columns should be categorical and which should be numerical?\n",
    "\n",
    "- Categorical: `fNAME`, `lNAME`, `gender`, `country`, `residence`, `prevEducation`\n",
    "- Numerical: `Age`, `entryEXAM`, `studyHOURS`, `Python`, `DB`"
   ]
  },
  {
   "cell_type": "markdown",
   "id": "0f0daa26",
   "metadata": {},
   "source": [
    "### Detect Inconsistent Categories"
   ]
  },
  {
   "cell_type": "code",
   "execution_count": 53,
   "id": "47cbc384",
   "metadata": {},
   "outputs": [
    {
     "name": "stdout",
     "output_type": "stream",
     "text": [
      "Unique values in gender: ['Female' 'M' 'Male' 'F' 'female' 'male']\n",
      "Unique values in country: ['Norway' 'Kenya' 'Uganda' 'Rsa' 'South Africa' 'Norge' 'norway' 'Denmark'\n",
      " 'Netherlands' 'Italy' 'Spain' 'UK' 'Somali' 'Nigeria' 'Germany' 'France']\n",
      "Unique values in prevEducation: ['Masters' 'Diploma' 'HighSchool' 'High School' 'Bachelors' 'Barrrchelors'\n",
      " 'diploma' 'DIPLOMA' 'Diplomaaa' 'Doctorate']\n"
     ]
    }
   ],
   "source": [
    "\n",
    "print(\"Unique values in gender:\", df['gender'].unique())\n",
    "print(\"Unique values in country:\", df['country'].unique())\n",
    "print(\"Unique values in prevEducation:\", df['prevEducation'].unique())\n"
   ]
  },
  {
   "cell_type": "code",
   "execution_count": 54,
   "id": "1322b90b",
   "metadata": {},
   "outputs": [
    {
     "data": {
      "text/html": [
       "<div>\n",
       "<style scoped>\n",
       "    .dataframe tbody tr th:only-of-type {\n",
       "        vertical-align: middle;\n",
       "    }\n",
       "\n",
       "    .dataframe tbody tr th {\n",
       "        vertical-align: top;\n",
       "    }\n",
       "\n",
       "    .dataframe thead th {\n",
       "        text-align: right;\n",
       "    }\n",
       "</style>\n",
       "<table border=\"1\" class=\"dataframe\">\n",
       "  <thead>\n",
       "    <tr style=\"text-align: right;\">\n",
       "      <th></th>\n",
       "      <th>gender</th>\n",
       "      <th>country</th>\n",
       "      <th>prevEducation</th>\n",
       "    </tr>\n",
       "  </thead>\n",
       "  <tbody>\n",
       "    <tr>\n",
       "      <th>0</th>\n",
       "      <td>Female</td>\n",
       "      <td>NORWAY</td>\n",
       "      <td>Masters</td>\n",
       "    </tr>\n",
       "    <tr>\n",
       "      <th>1</th>\n",
       "      <td>Male</td>\n",
       "      <td>KENYA</td>\n",
       "      <td>Diploma</td>\n",
       "    </tr>\n",
       "    <tr>\n",
       "      <th>2</th>\n",
       "      <td>Male</td>\n",
       "      <td>UGANDA</td>\n",
       "      <td>High School</td>\n",
       "    </tr>\n",
       "    <tr>\n",
       "      <th>3</th>\n",
       "      <td>Female</td>\n",
       "      <td>SOUTH AFRICA</td>\n",
       "      <td>High School</td>\n",
       "    </tr>\n",
       "    <tr>\n",
       "      <th>4</th>\n",
       "      <td>Female</td>\n",
       "      <td>SOUTH AFRICA</td>\n",
       "      <td>High School</td>\n",
       "    </tr>\n",
       "  </tbody>\n",
       "</table>\n",
       "</div>"
      ],
      "text/plain": [
       "   gender       country prevEducation\n",
       "0  Female        NORWAY       Masters\n",
       "1    Male         KENYA       Diploma\n",
       "2    Male        UGANDA   High School\n",
       "3  Female  SOUTH AFRICA   High School\n",
       "4  Female  SOUTH AFRICA   High School"
      ]
     },
     "execution_count": 54,
     "metadata": {},
     "output_type": "execute_result"
    }
   ],
   "source": [
    "\n",
    "# Fix gender inconsistencies\n",
    "df['gender'] = df['gender'].replace({'M':'Male', 'F':'Female'})\n",
    "df['gender'] = df['gender'].str.strip().str.title()\n",
    "\n",
    "# Fix country inconsistencies (example: RSA vs Rsa vs South Africa)\n",
    "df['country'] = df['country'].str.strip().str.upper()\n",
    "df['country'] = df['country'].replace({'RSA':'SOUTH AFRICA'})\n",
    "\n",
    "# Fix prevEducation inconsistencies\n",
    "df['prevEducation'] = df['prevEducation'].str.strip().str.title()\n",
    "df['prevEducation'] = df['prevEducation'].replace({\n",
    "    'Highschool':'High School', 'Highschool ':'High School', 'Barrrchelors':'Bachelor', 'Diplomaaa':'Diploma'\n",
    "})\n",
    "\n",
    "df[['gender','country','prevEducation']].head()\n"
   ]
  },
  {
   "cell_type": "markdown",
   "id": "5a27af08",
   "metadata": {},
   "source": [
    "### Handle Duplicates"
   ]
  },
  {
   "cell_type": "code",
   "execution_count": 57,
   "id": "2135278f",
   "metadata": {},
   "outputs": [
    {
     "name": "stdout",
     "output_type": "stream",
     "text": [
      "Duplicate rows: 0\n"
     ]
    }
   ],
   "source": [
    "\n",
    "print(\"Duplicate rows:\", df.duplicated().sum())\n",
    "df = df.drop_duplicates()\n"
   ]
  },
  {
   "cell_type": "markdown",
   "id": "4f1b57f3",
   "metadata": {},
   "source": [
    "## Part 2 – Missing Data"
   ]
  },
  {
   "cell_type": "code",
   "execution_count": 59,
   "id": "2cd1bcfe",
   "metadata": {},
   "outputs": [
    {
     "data": {
      "text/plain": [
       "fNAME            0\n",
       "lNAME            0\n",
       "Age              0\n",
       "gender           0\n",
       "country          0\n",
       "residence        0\n",
       "entryEXAM        0\n",
       "prevEducation    0\n",
       "studyHOURS       0\n",
       "Python           2\n",
       "DB               0\n",
       "dtype: int64"
      ]
     },
     "execution_count": 59,
     "metadata": {},
     "output_type": "execute_result"
    }
   ],
   "source": [
    "\n",
    "# Missing values check\n",
    "df.isnull().sum()\n"
   ]
  },
  {
   "cell_type": "markdown",
   "id": "5a94c9d6",
   "metadata": {},
   "source": [
    "**Question:** Which columns are most affected by missing values?\n",
    "\n",
    "- Python scores have missing values.\n",
    "- Possibly other categorical fields may have small missing entries."
   ]
  },
  {
   "cell_type": "code",
   "execution_count": 61,
   "id": "c6ba6741",
   "metadata": {},
   "outputs": [
    {
     "data": {
      "text/html": [
       "<div>\n",
       "<style scoped>\n",
       "    .dataframe tbody tr th:only-of-type {\n",
       "        vertical-align: middle;\n",
       "    }\n",
       "\n",
       "    .dataframe tbody tr th {\n",
       "        vertical-align: top;\n",
       "    }\n",
       "\n",
       "    .dataframe thead th {\n",
       "        text-align: right;\n",
       "    }\n",
       "</style>\n",
       "<table border=\"1\" class=\"dataframe\">\n",
       "  <thead>\n",
       "    <tr style=\"text-align: right;\">\n",
       "      <th></th>\n",
       "      <th>fNAME</th>\n",
       "      <th>lNAME</th>\n",
       "      <th>Age</th>\n",
       "      <th>gender</th>\n",
       "      <th>country</th>\n",
       "      <th>residence</th>\n",
       "      <th>entryEXAM</th>\n",
       "      <th>prevEducation</th>\n",
       "      <th>studyHOURS</th>\n",
       "      <th>Python</th>\n",
       "      <th>DB</th>\n",
       "      <th>Python_mean_imputed</th>\n",
       "      <th>Python_median_imputed</th>\n",
       "    </tr>\n",
       "  </thead>\n",
       "  <tbody>\n",
       "    <tr>\n",
       "      <th>0</th>\n",
       "      <td>Christina</td>\n",
       "      <td>Binger</td>\n",
       "      <td>44</td>\n",
       "      <td>Female</td>\n",
       "      <td>NORWAY</td>\n",
       "      <td>Private</td>\n",
       "      <td>72</td>\n",
       "      <td>Masters</td>\n",
       "      <td>158</td>\n",
       "      <td>59.0</td>\n",
       "      <td>55</td>\n",
       "      <td>59.000000</td>\n",
       "      <td>59.0</td>\n",
       "    </tr>\n",
       "    <tr>\n",
       "      <th>1</th>\n",
       "      <td>Alex</td>\n",
       "      <td>Walekhwa</td>\n",
       "      <td>60</td>\n",
       "      <td>Male</td>\n",
       "      <td>KENYA</td>\n",
       "      <td>Private</td>\n",
       "      <td>79</td>\n",
       "      <td>Diploma</td>\n",
       "      <td>150</td>\n",
       "      <td>60.0</td>\n",
       "      <td>75</td>\n",
       "      <td>60.000000</td>\n",
       "      <td>60.0</td>\n",
       "    </tr>\n",
       "    <tr>\n",
       "      <th>2</th>\n",
       "      <td>Philip</td>\n",
       "      <td>Leo</td>\n",
       "      <td>25</td>\n",
       "      <td>Male</td>\n",
       "      <td>UGANDA</td>\n",
       "      <td>Sognsvann</td>\n",
       "      <td>55</td>\n",
       "      <td>High School</td>\n",
       "      <td>130</td>\n",
       "      <td>74.0</td>\n",
       "      <td>50</td>\n",
       "      <td>74.000000</td>\n",
       "      <td>74.0</td>\n",
       "    </tr>\n",
       "    <tr>\n",
       "      <th>3</th>\n",
       "      <td>Shoni</td>\n",
       "      <td>Hlongwane</td>\n",
       "      <td>22</td>\n",
       "      <td>Female</td>\n",
       "      <td>SOUTH AFRICA</td>\n",
       "      <td>Sognsvann</td>\n",
       "      <td>40</td>\n",
       "      <td>High School</td>\n",
       "      <td>120</td>\n",
       "      <td>NaN</td>\n",
       "      <td>44</td>\n",
       "      <td>75.853333</td>\n",
       "      <td>81.0</td>\n",
       "    </tr>\n",
       "    <tr>\n",
       "      <th>4</th>\n",
       "      <td>Maria</td>\n",
       "      <td>Kedibone</td>\n",
       "      <td>23</td>\n",
       "      <td>Female</td>\n",
       "      <td>SOUTH AFRICA</td>\n",
       "      <td>Sognsvann</td>\n",
       "      <td>65</td>\n",
       "      <td>High School</td>\n",
       "      <td>122</td>\n",
       "      <td>91.0</td>\n",
       "      <td>80</td>\n",
       "      <td>91.000000</td>\n",
       "      <td>91.0</td>\n",
       "    </tr>\n",
       "  </tbody>\n",
       "</table>\n",
       "</div>"
      ],
      "text/plain": [
       "       fNAME      lNAME  Age  gender       country  residence  entryEXAM  \\\n",
       "0  Christina     Binger   44  Female        NORWAY    Private         72   \n",
       "1       Alex   Walekhwa   60    Male         KENYA    Private         79   \n",
       "2     Philip        Leo   25    Male        UGANDA  Sognsvann         55   \n",
       "3      Shoni  Hlongwane   22  Female  SOUTH AFRICA  Sognsvann         40   \n",
       "4      Maria   Kedibone   23  Female  SOUTH AFRICA  Sognsvann         65   \n",
       "\n",
       "  prevEducation  studyHOURS  Python  DB  Python_mean_imputed  \\\n",
       "0       Masters         158    59.0  55            59.000000   \n",
       "1       Diploma         150    60.0  75            60.000000   \n",
       "2   High School         130    74.0  50            74.000000   \n",
       "3   High School         120     NaN  44            75.853333   \n",
       "4   High School         122    91.0  80            91.000000   \n",
       "\n",
       "   Python_median_imputed  \n",
       "0                   59.0  \n",
       "1                   60.0  \n",
       "2                   74.0  \n",
       "3                   81.0  \n",
       "4                   91.0  "
      ]
     },
     "execution_count": 61,
     "metadata": {},
     "output_type": "execute_result"
    }
   ],
   "source": [
    "\n",
    "# Option 1: Numerical imputation (Python, DB) with mean\n",
    "df['Python_mean_imputed'] = df['Python'].fillna(df['Python'].mean())\n",
    "\n",
    "# Option 2: Numerical imputation with median\n",
    "df['Python_median_imputed'] = df['Python'].fillna(df['Python'].median())\n",
    "\n",
    "# Option 3: For categorical, fill with mode\n",
    "for col in ['gender','country','prevEducation']:\n",
    "    df[col] = df[col].fillna(df[col].mode()[0])\n",
    "\n",
    "df.head()\n"
   ]
  },
  {
   "cell_type": "markdown",
   "id": "b4155e9e",
   "metadata": {},
   "source": [
    "## Part 3 – Outliers"
   ]
  },
  {
   "cell_type": "code",
   "execution_count": 63,
   "id": "dd03e7d6",
   "metadata": {},
   "outputs": [
    {
     "data": {
      "image/png": "[encoded data removed]",
      "text/plain": [
       "<Figure size 1500x500 with 3 Axes>"
      ]
     },
     "metadata": {},
     "output_type": "display_data"
    }
   ],
   "source": [
    "\n",
    "# Boxplots for numerical columns\n",
    "fig, axes = plt.subplots(1, 3, figsize=(15,5))\n",
    "sns.boxplot(y=df['studyHOURS'], ax=axes[0])\n",
    "axes[0].set_title(\"Study Hours\")\n",
    "sns.boxplot(y=df['Python_mean_imputed'], ax=axes[1])\n",
    "axes[1].set_title(\"Python Scores\")\n",
    "sns.boxplot(y=df['DB'], ax=axes[2])\n",
    "axes[2].set_title(\"DB Scores\")\n",
    "plt.show()\n"
   ]
  },
  {
   "cell_type": "code",
   "execution_count": 69,
   "id": "fd20fc84",
   "metadata": {},
   "outputs": [],
   "source": [
    "\n",
    "# IQR method for outlier handling\n",
    "def handle_outliers(series):\n",
    "    Q1 = series.quantile(0.25)\n",
    "    Q3 = series.quantile(0.75)\n",
    "    IQR = Q3 - Q1\n",
    "    lower = Q1 - 1.5 * IQR\n",
    "    upper = Q3 + 1.5 * IQR\n",
    "    return series.clip(lower, upper)\n",
    "\n",
    "df['studyHOURS_cleaned'] = handle_outliers(df['studyHOURS'])\n",
    "df['Python_cleaned'] = handle_outliers(df['Python_mean_imputed'])\n",
    "df['DB_cleaned'] = handle_outliers(df['DB'])\n"
   ]
  },
  {
   "cell_type": "markdown",
   "id": "439724fd",
   "metadata": {},
   "source": [
    "## Final Deliverable"
   ]
  },
  {
   "cell_type": "code",
   "execution_count": 70,
   "id": "8aee2814",
   "metadata": {},
   "outputs": [
    {
     "name": "stdout",
     "output_type": "stream",
     "text": [
      "✅ Cleaned dataset saved as cleaned_students.csv\n"
     ]
    }
   ],
   "source": [
    "\n",
    "# Export cleaned dataset\n",
    "df.to_csv(\"cleaned_students.csv\", index=False)\n",
    "print(\"✅ Cleaned dataset saved as cleaned_students.csv\")\n"
   ]
  }
 ],
 "metadata": {
  "kernelspec": {
   "display_name": "Python 3 (ipykernel)",
   "language": "python",
   "name": "python3"
  },
  "language_info": {
   "codemirror_mode": {
    "name": "ipython",
    "version": 3
   },
   "file_extension": ".py",
   "mimetype": "text/x-python",
   "name": "python",
   "nbconvert_exporter": "python",
   "pygments_lexer": "ipython3",
   "version": "3.13.5"
  }
 },
 "nbformat": 4,
 "nbformat_minor": 5
}
